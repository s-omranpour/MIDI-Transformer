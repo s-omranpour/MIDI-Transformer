{
 "cells": [
  {
   "cell_type": "code",
   "execution_count": 10,
   "id": "9304f83b",
   "metadata": {},
   "outputs": [],
   "source": [
    "from miditoolkit.midi.parser import MidiFile\n",
    "import os\n",
    "from tqdm.notebook import tqdm\n",
    "from collections import Counter\n",
    "from deepnote import MusicRepr\n",
    "from joblib import delayed, Parallel"
   ]
  },
  {
   "cell_type": "code",
   "execution_count": 16,
   "id": "eaa6b700",
   "metadata": {},
   "outputs": [
    {
     "data": {
      "text/plain": [
       "22945"
      ]
     },
     "execution_count": 16,
     "metadata": {},
     "output_type": "execute_result"
    }
   ],
   "source": [
    "path = '/home/soroosh/Desktop/datasets/music/lmd_processed/'\n",
    "files = list(filter(lambda x: x.endswith('.mid'), os.listdir(path)))\n",
    "len(files)"
   ]
  },
  {
   "cell_type": "code",
   "execution_count": 17,
   "id": "5d4d0e30",
   "metadata": {},
   "outputs": [
    {
     "data": {
      "application/vnd.jupyter.widget-view+json": {
       "model_id": "c1df5d87d94f46858ffc07fe6df2640c",
       "version_major": 2,
       "version_minor": 0
      },
      "text/plain": [
       "  0%|          | 0/22945 [00:00<?, ?it/s]"
      ]
     },
     "metadata": {},
     "output_type": "display_data"
    }
   ],
   "source": [
    "def get_instruments(file):\n",
    "    seq = MusicRepr.from_file(path + file)\n",
    "    return seq.get_instruments()\n",
    "\n",
    "res = Parallel(n_jobs=12)(delayed(get_instruments)(file) for file in tqdm(files))"
   ]
  },
  {
   "cell_type": "code",
   "execution_count": 19,
   "id": "caadc6aa",
   "metadata": {},
   "outputs": [
    {
     "data": {
      "text/plain": [
       "Counter({'piano': 16219,\n",
       "         'guitar': 16556,\n",
       "         'reed': 6303,\n",
       "         'drums': 20577,\n",
       "         'brass': 6947,\n",
       "         'bass': 19417,\n",
       "         'organ': 6006,\n",
       "         'strings': 3961,\n",
       "         'ensemble': 15951,\n",
       "         'synth-pad': 5303,\n",
       "         'percussion': 3840,\n",
       "         'pipe': 5475,\n",
       "         'synth-lead': 4349,\n",
       "         'percussive': 2798,\n",
       "         'synth-effects': 2656,\n",
       "         'ethnic': 1233,\n",
       "         'sound-effects': 1724})"
      ]
     },
     "execution_count": 19,
     "metadata": {},
     "output_type": "execute_result"
    }
   ],
   "source": [
    "c = Counter()\n",
    "for r in res:\n",
    "    c.update(r)\n",
    "c"
   ]
  },
  {
   "cell_type": "code",
   "execution_count": 23,
   "id": "fa086491",
   "metadata": {},
   "outputs": [
    {
     "data": {
      "text/plain": [
       "<matplotlib.axes._subplots.AxesSubplot at 0x7fa16204cf70>"
      ]
     },
     "execution_count": 23,
     "metadata": {},
     "output_type": "execute_result"
    },
    {
     "data": {
      "image/png": "[encoded data removed]",
      "text/plain": [
       "<Figure size 1440x360 with 1 Axes>"
      ]
     },
     "metadata": {
      "needs_background": "light"
     },
     "output_type": "display_data"
    }
   ],
   "source": [
    "import matplotlib.pyplot as plt\n",
    "import seaborn as sns\n",
    "\n",
    "\n",
    "plt.figure(figsize=(20,5))\n",
    "sns.barplot(x=list(c.keys()), y=list(c.values()))"
   ]
  },
  {
   "cell_type": "code",
   "execution_count": null,
   "id": "bcf72cef",
   "metadata": {},
   "outputs": [],
   "source": []
  }
 ],
 "metadata": {
  "kernelspec": {
   "display_name": "Python 3",
   "language": "python",
   "name": "python3"
  },
  "language_info": {
   "codemirror_mode": {
    "name": "ipython",
    "version": 3
   },
   "file_extension": ".py",
   "mimetype": "text/x-python",
   "name": "python",
   "nbconvert_exporter": "python",
   "pygments_lexer": "ipython3",
   "version": "3.8.5"
  }
 },
 "nbformat": 4,
 "nbformat_minor": 5
}
