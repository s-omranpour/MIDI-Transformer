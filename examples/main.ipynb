{
 "cells": [
  {
   "cell_type": "code",
   "execution_count": 1,
   "id": "spatial-benjamin",
   "metadata": {},
   "outputs": [
    {
     "data": {
      "text/plain": [
       "42"
      ]
     },
     "execution_count": 1,
     "metadata": {},
     "output_type": "execute_result"
    }
   ],
   "source": [
    "import numpy as np\n",
    "import torch\n",
    "\n",
    "from omegaconf import OmegaConf\n",
    "from deepnote import MusicRepr\n",
    "from importlib import reload\n",
    "\n",
    "from pytorch_lightning import Trainer, seed_everything\n",
    "from pytorch_lightning.loggers import TensorBoardLogger\n",
    "from pytorch_lightning.callbacks import ModelCheckpoint, LearningRateMonitor\n",
    "\n",
    "seed_everything(42)"
   ]
  },
  {
   "cell_type": "markdown",
   "id": "crucial-danish",
   "metadata": {},
   "source": [
    "## Config"
   ]
  },
  {
   "cell_type": "code",
   "execution_count": 2,
   "id": "front-diploma",
   "metadata": {},
   "outputs": [],
   "source": [
    "conf = OmegaConf.load('conf.yaml')"
   ]
  },
  {
   "cell_type": "markdown",
   "id": "conscious-television",
   "metadata": {},
   "source": [
    "## Dataset"
   ]
  },
  {
   "cell_type": "code",
   "execution_count": 3,
   "id": "tight-clear",
   "metadata": {},
   "outputs": [
    {
     "data": {
      "application/vnd.jupyter.widget-view+json": {
       "model_id": "e8562f844c184430b928d1d4e7b69673",
       "version_major": 2,
       "version_minor": 0
      },
      "text/plain": [
       "  0%|          | 0/2000 [00:00<?, ?it/s]"
      ]
     },
     "metadata": {},
     "output_type": "display_data"
    }
   ],
   "source": [
    "from midi_transformer import LMDataset, get_dataloaders\n",
    "\n",
    "\n",
    "dataset = LMDataset(\n",
    "    **conf['data']\n",
    ")"
   ]
  },
  {
   "cell_type": "code",
   "execution_count": 4,
   "id": "6608f052",
   "metadata": {},
   "outputs": [
    {
     "data": {
      "text/plain": [
       "8622281"
      ]
     },
     "execution_count": 4,
     "metadata": {},
     "output_type": "execute_result"
    }
   ],
   "source": [
    "len(dataset)"
   ]
  },
  {
   "cell_type": "code",
   "execution_count": 5,
   "id": "72998224",
   "metadata": {},
   "outputs": [
    {
     "name": "stdout",
     "output_type": "stream",
     "text": [
      "train dataset has 7760053 samples and val dataset has 862228 samples.\n"
     ]
    }
   ],
   "source": [
    "train_loader, val_loader = get_dataloaders(dataset, batch_size=20, n_jobs=4, val_frac=0.1)"
   ]
  },
  {
   "cell_type": "code",
   "execution_count": 6,
   "id": "pending-internship",
   "metadata": {},
   "outputs": [
    {
     "data": {
      "text/plain": [
       "((1024, 8), (1024, 8))"
      ]
     },
     "execution_count": 6,
     "metadata": {},
     "output_type": "execute_result"
    }
   ],
   "source": [
    "x, y = dataset[0]\n",
    "x.shape, y.shape"
   ]
  },
  {
   "cell_type": "code",
   "execution_count": 7,
   "id": "exempt-invention",
   "metadata": {},
   "outputs": [
    {
     "name": "stdout",
     "output_type": "stream",
     "text": [
      "X torch.Size([20, 1024, 8])\n",
      "X_len torch.Size([20])\n",
      "labels torch.Size([20, 1024, 8])\n"
     ]
    }
   ],
   "source": [
    "for b in val_loader:\n",
    "    for k in b:\n",
    "        print(k, b[k].shape)\n",
    "    break"
   ]
  },
  {
   "cell_type": "markdown",
   "id": "perfect-general",
   "metadata": {},
   "source": [
    "## Model"
   ]
  },
  {
   "cell_type": "code",
   "execution_count": 8,
   "id": "aboriginal-denver",
   "metadata": {},
   "outputs": [
    {
     "name": "stdout",
     "output_type": "stream",
     "text": [
      "model has 13088005 parameters.\n"
     ]
    }
   ],
   "source": [
    "from midi_transformer import CPTransformer\n",
    "\n",
    "model = CPTransformer(conf['model'])\n",
    "print('model has', model.count_parameters(), 'parameters.')"
   ]
  },
  {
   "cell_type": "code",
   "execution_count": 9,
   "id": "utility-opening",
   "metadata": {},
   "outputs": [
    {
     "data": {
      "text/plain": [
       "tensor(3.3427, grad_fn=<DivBackward0>)"
      ]
     },
     "execution_count": 9,
     "metadata": {},
     "output_type": "execute_result"
    }
   ],
   "source": [
    "model.step(b)"
   ]
  },
  {
   "cell_type": "markdown",
   "id": "perfect-luxury",
   "metadata": {},
   "source": [
    "## Trainer"
   ]
  },
  {
   "cell_type": "code",
   "execution_count": 10,
   "id": "direct-composition",
   "metadata": {},
   "outputs": [
    {
     "name": "stderr",
     "output_type": "stream",
     "text": [
      "/home/soroosh/.local/lib/python3.8/site-packages/pytorch_lightning/utilities/distributed.py:49: UserWarning: Checkpoint directory weights/piano-bass-drums-guitar-ensemble/ exists and is not empty.\n",
      "  warnings.warn(*args, **kwargs)\n",
      "GPU available: True, used: True\n",
      "TPU available: None, using: 0 TPU cores\n",
      "LOCAL_RANK: 0 - CUDA_VISIBLE_DEVICES: [0]\n"
     ]
    },
    {
     "name": "stdout",
     "output_type": "stream",
     "text": [
      "model name: piano-bass-drums-guitar-ensemble\n"
     ]
    }
   ],
   "source": [
    "name = '-'.join(conf['data']['instruments'])\n",
    "print('model name:',name)\n",
    "\n",
    "logger = TensorBoardLogger(save_dir='logs/', name=name)\n",
    "lr_logger = LearningRateMonitor(logging_interval='step')\n",
    "checkpoint = ModelCheckpoint(\n",
    "    dirpath=f'weights/{name}/', \n",
    "    filename='{epoch}-{val_loss:.2f}', \n",
    "    monitor='val_loss',\n",
    "    save_top_k=1, \n",
    "    period=1\n",
    ")\n",
    "\n",
    "trainer = Trainer(\n",
    "    benchmark=True, \n",
    "    gpus=1, \n",
    "#     reload_dataloaders_every_epoch=True,\n",
    "#     gradient_clip_val=0.5,\n",
    "    accumulate_grad_batches=1,\n",
    "    logger=logger, \n",
    "    max_epochs=conf['model']['max_epochs'],\n",
    "    callbacks=[checkpoint, lr_logger]\n",
    ")\n"
   ]
  },
  {
   "cell_type": "code",
   "execution_count": null,
   "id": "sharing-newton",
   "metadata": {},
   "outputs": [
    {
     "name": "stderr",
     "output_type": "stream",
     "text": [
      "\n",
      "  | Name      | Type             | Params\n",
      "-----------------------------------------------\n",
      "0 | criterion | CrossEntropyLoss | 0     \n",
      "1 | emb       | CPEmbedding      | 280 K \n",
      "2 | encoder   | Encoder          | 12.6 M\n",
      "3 | head      | CPHeadLayer      | 190 K \n",
      "-----------------------------------------------\n",
      "13.1 M    Trainable params\n",
      "0         Non-trainable params\n",
      "13.1 M    Total params\n"
     ]
    },
    {
     "data": {
      "application/vnd.jupyter.widget-view+json": {
       "model_id": "",
       "version_major": 2,
       "version_minor": 0
      },
      "text/plain": [
       "Validation sanity check: 0it [00:00, ?it/s]"
      ]
     },
     "metadata": {},
     "output_type": "display_data"
    },
    {
     "data": {
      "application/vnd.jupyter.widget-view+json": {
       "model_id": "2b75ff68a83f4adeb584eceab158f68b",
       "version_major": 2,
       "version_minor": 0
      },
      "text/plain": [
       "Training: 0it [00:00, ?it/s]"
      ]
     },
     "metadata": {},
     "output_type": "display_data"
    }
   ],
   "source": [
    "trainer.fit(model, train_loader, val_loader)"
   ]
  },
  {
   "cell_type": "code",
   "execution_count": null,
   "id": "bddad083",
   "metadata": {},
   "outputs": [],
   "source": [
    "trainer.save_checkpoint(f'weights/{name}/last.ckpt')"
   ]
  },
  {
   "cell_type": "markdown",
   "id": "backed-settle",
   "metadata": {},
   "source": [
    "## generation"
   ]
  },
  {
   "cell_type": "code",
   "execution_count": null,
   "id": "suburban-belle",
   "metadata": {},
   "outputs": [],
   "source": [
    "gen = model.generate(\n",
    "    prompt=None,\n",
    "    max_len=100, \n",
    "    temperatures={\n",
    "        'ttype' : 2,\n",
    "        'position': 0.9,\n",
    "        'tempo': 0.5,\n",
    "        'chord': 0.8,\n",
    "        'instrument': 3.,\n",
    "        'pitch': 2,\n",
    "        'duration': 0.8,\n",
    "        'velocity': 0.8\n",
    "    }\n",
    ")"
   ]
  },
  {
   "cell_type": "code",
   "execution_count": null,
   "id": "afraid-december",
   "metadata": {},
   "outputs": [],
   "source": [
    "seq = MusicRepr.from_cp(gen)\n",
    "seq.to_midi('gen.mid')"
   ]
  },
  {
   "cell_type": "code",
   "execution_count": null,
   "id": "6023eb4f",
   "metadata": {},
   "outputs": [],
   "source": []
  }
 ],
 "metadata": {
  "kernelspec": {
   "display_name": "Python 3",
   "language": "python",
   "name": "python3"
  },
  "language_info": {
   "codemirror_mode": {
    "name": "ipython",
    "version": 3
   },
   "file_extension": ".py",
   "mimetype": "text/x-python",
   "name": "python",
   "nbconvert_exporter": "python",
   "pygments_lexer": "ipython3",
   "version": "3.8.5"
  }
 },
 "nbformat": 4,
 "nbformat_minor": 5
}
